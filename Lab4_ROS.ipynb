{
 "cells": [
  {
   "cell_type": "code",
   "execution_count": 1,
   "id": "64069f52",
   "metadata": {
    "scrolled": false
   },
   "outputs": [
    {
     "name": "stdout",
     "output_type": "stream",
     "text": [
      "<class 'pandas.core.frame.DataFrame'>\n",
      "Int64Index: 72718 entries, 0 to 74000\n",
      "Data columns (total 36 columns):\n",
      " #   Column            Non-Null Count  Dtype  \n",
      "---  ------            --------------  -----  \n",
      " 0   TractId           72718 non-null  int64  \n",
      " 1   State             72718 non-null  int32  \n",
      " 2   TotalPop          72718 non-null  int64  \n",
      " 3   Men               72718 non-null  int64  \n",
      " 4   Women             72718 non-null  int64  \n",
      " 5   Hispanic          72718 non-null  float64\n",
      " 6   White             72718 non-null  float64\n",
      " 7   Black             72718 non-null  float64\n",
      " 8   Native            72718 non-null  float64\n",
      " 9   Asian             72718 non-null  float64\n",
      " 10  Pacific           72718 non-null  float64\n",
      " 11  VotingAgeCitizen  72718 non-null  int64  \n",
      " 12  Income            72718 non-null  float64\n",
      " 13  IncomeErr         72718 non-null  float64\n",
      " 14  IncomePerCap      72718 non-null  float64\n",
      " 15  IncomePerCapErr   72718 non-null  float64\n",
      " 16  Poverty           72718 non-null  float64\n",
      " 17  ChildPoverty      72718 non-null  float64\n",
      " 18  Professional      72718 non-null  float64\n",
      " 19  Service           72718 non-null  float64\n",
      " 20  Office            72718 non-null  float64\n",
      " 21  Construction      72718 non-null  float64\n",
      " 22  Production        72718 non-null  float64\n",
      " 23  Drive             72718 non-null  float64\n",
      " 24  Carpool           72718 non-null  float64\n",
      " 25  Transit           72718 non-null  float64\n",
      " 26  Walk              72718 non-null  float64\n",
      " 27  OtherTransp       72718 non-null  float64\n",
      " 28  WorkAtHome        72718 non-null  float64\n",
      " 29  MeanCommute       72718 non-null  float64\n",
      " 30  Employed          72718 non-null  int64  \n",
      " 31  PrivateWork       72718 non-null  float64\n",
      " 32  PublicWork        72718 non-null  float64\n",
      " 33  SelfEmployed      72718 non-null  float64\n",
      " 34  FamilyWork        72718 non-null  float64\n",
      " 35  Unemployment      72718 non-null  float64\n",
      "dtypes: float64(29), int32(1), int64(6)\n",
      "memory usage: 20.2 MB\n"
     ]
    },
    {
     "data": {
      "text/html": [
       "<div>\n",
       "<style scoped>\n",
       "    .dataframe tbody tr th:only-of-type {\n",
       "        vertical-align: middle;\n",
       "    }\n",
       "\n",
       "    .dataframe tbody tr th {\n",
       "        vertical-align: top;\n",
       "    }\n",
       "\n",
       "    .dataframe thead th {\n",
       "        text-align: right;\n",
       "    }\n",
       "</style>\n",
       "<table border=\"1\" class=\"dataframe\">\n",
       "  <thead>\n",
       "    <tr style=\"text-align: right;\">\n",
       "      <th></th>\n",
       "      <th>TractId</th>\n",
       "      <th>State</th>\n",
       "      <th>TotalPop</th>\n",
       "      <th>Men</th>\n",
       "      <th>Women</th>\n",
       "      <th>Hispanic</th>\n",
       "      <th>White</th>\n",
       "      <th>Black</th>\n",
       "      <th>Native</th>\n",
       "      <th>Asian</th>\n",
       "      <th>...</th>\n",
       "      <th>Walk</th>\n",
       "      <th>OtherTransp</th>\n",
       "      <th>WorkAtHome</th>\n",
       "      <th>MeanCommute</th>\n",
       "      <th>Employed</th>\n",
       "      <th>PrivateWork</th>\n",
       "      <th>PublicWork</th>\n",
       "      <th>SelfEmployed</th>\n",
       "      <th>FamilyWork</th>\n",
       "      <th>Unemployment</th>\n",
       "    </tr>\n",
       "  </thead>\n",
       "  <tbody>\n",
       "    <tr>\n",
       "      <th>0</th>\n",
       "      <td>1001020100</td>\n",
       "      <td>0</td>\n",
       "      <td>1845</td>\n",
       "      <td>899</td>\n",
       "      <td>946</td>\n",
       "      <td>2.4</td>\n",
       "      <td>86.3</td>\n",
       "      <td>5.2</td>\n",
       "      <td>0.0</td>\n",
       "      <td>1.2</td>\n",
       "      <td>...</td>\n",
       "      <td>0.5</td>\n",
       "      <td>0.0</td>\n",
       "      <td>2.1</td>\n",
       "      <td>24.5</td>\n",
       "      <td>881</td>\n",
       "      <td>74.2</td>\n",
       "      <td>21.2</td>\n",
       "      <td>4.5</td>\n",
       "      <td>0.0</td>\n",
       "      <td>4.6</td>\n",
       "    </tr>\n",
       "    <tr>\n",
       "      <th>1</th>\n",
       "      <td>1001020200</td>\n",
       "      <td>0</td>\n",
       "      <td>2172</td>\n",
       "      <td>1167</td>\n",
       "      <td>1005</td>\n",
       "      <td>1.1</td>\n",
       "      <td>41.6</td>\n",
       "      <td>54.5</td>\n",
       "      <td>0.0</td>\n",
       "      <td>1.0</td>\n",
       "      <td>...</td>\n",
       "      <td>0.0</td>\n",
       "      <td>0.5</td>\n",
       "      <td>0.0</td>\n",
       "      <td>22.2</td>\n",
       "      <td>852</td>\n",
       "      <td>75.9</td>\n",
       "      <td>15.0</td>\n",
       "      <td>9.0</td>\n",
       "      <td>0.0</td>\n",
       "      <td>3.4</td>\n",
       "    </tr>\n",
       "    <tr>\n",
       "      <th>2</th>\n",
       "      <td>1001020300</td>\n",
       "      <td>0</td>\n",
       "      <td>3385</td>\n",
       "      <td>1533</td>\n",
       "      <td>1852</td>\n",
       "      <td>8.0</td>\n",
       "      <td>61.4</td>\n",
       "      <td>26.5</td>\n",
       "      <td>0.6</td>\n",
       "      <td>0.7</td>\n",
       "      <td>...</td>\n",
       "      <td>1.0</td>\n",
       "      <td>0.8</td>\n",
       "      <td>1.5</td>\n",
       "      <td>23.1</td>\n",
       "      <td>1482</td>\n",
       "      <td>73.3</td>\n",
       "      <td>21.1</td>\n",
       "      <td>4.8</td>\n",
       "      <td>0.7</td>\n",
       "      <td>4.7</td>\n",
       "    </tr>\n",
       "    <tr>\n",
       "      <th>3</th>\n",
       "      <td>1001020400</td>\n",
       "      <td>0</td>\n",
       "      <td>4267</td>\n",
       "      <td>2001</td>\n",
       "      <td>2266</td>\n",
       "      <td>9.6</td>\n",
       "      <td>80.3</td>\n",
       "      <td>7.1</td>\n",
       "      <td>0.5</td>\n",
       "      <td>0.2</td>\n",
       "      <td>...</td>\n",
       "      <td>1.5</td>\n",
       "      <td>2.9</td>\n",
       "      <td>2.1</td>\n",
       "      <td>25.9</td>\n",
       "      <td>1849</td>\n",
       "      <td>75.8</td>\n",
       "      <td>19.7</td>\n",
       "      <td>4.5</td>\n",
       "      <td>0.0</td>\n",
       "      <td>6.1</td>\n",
       "    </tr>\n",
       "    <tr>\n",
       "      <th>4</th>\n",
       "      <td>1001020500</td>\n",
       "      <td>0</td>\n",
       "      <td>9965</td>\n",
       "      <td>5054</td>\n",
       "      <td>4911</td>\n",
       "      <td>0.9</td>\n",
       "      <td>77.5</td>\n",
       "      <td>16.4</td>\n",
       "      <td>0.0</td>\n",
       "      <td>3.1</td>\n",
       "      <td>...</td>\n",
       "      <td>0.8</td>\n",
       "      <td>0.3</td>\n",
       "      <td>0.7</td>\n",
       "      <td>21.0</td>\n",
       "      <td>4787</td>\n",
       "      <td>71.4</td>\n",
       "      <td>24.1</td>\n",
       "      <td>4.5</td>\n",
       "      <td>0.0</td>\n",
       "      <td>2.3</td>\n",
       "    </tr>\n",
       "  </tbody>\n",
       "</table>\n",
       "<p>5 rows × 36 columns</p>\n",
       "</div>"
      ],
      "text/plain": [
       "      TractId  State  TotalPop   Men  Women  Hispanic  White  Black  Native  \\\n",
       "0  1001020100      0      1845   899    946       2.4   86.3    5.2     0.0   \n",
       "1  1001020200      0      2172  1167   1005       1.1   41.6   54.5     0.0   \n",
       "2  1001020300      0      3385  1533   1852       8.0   61.4   26.5     0.6   \n",
       "3  1001020400      0      4267  2001   2266       9.6   80.3    7.1     0.5   \n",
       "4  1001020500      0      9965  5054   4911       0.9   77.5   16.4     0.0   \n",
       "\n",
       "   Asian  ...  Walk  OtherTransp  WorkAtHome  MeanCommute  Employed  \\\n",
       "0    1.2  ...   0.5          0.0         2.1         24.5       881   \n",
       "1    1.0  ...   0.0          0.5         0.0         22.2       852   \n",
       "2    0.7  ...   1.0          0.8         1.5         23.1      1482   \n",
       "3    0.2  ...   1.5          2.9         2.1         25.9      1849   \n",
       "4    3.1  ...   0.8          0.3         0.7         21.0      4787   \n",
       "\n",
       "   PrivateWork  PublicWork  SelfEmployed  FamilyWork  Unemployment  \n",
       "0         74.2        21.2           4.5         0.0           4.6  \n",
       "1         75.9        15.0           9.0         0.0           3.4  \n",
       "2         73.3        21.1           4.8         0.7           4.7  \n",
       "3         75.8        19.7           4.5         0.0           6.1  \n",
       "4         71.4        24.1           4.5         0.0           2.3  \n",
       "\n",
       "[5 rows x 36 columns]"
      ]
     },
     "execution_count": 1,
     "metadata": {},
     "output_type": "execute_result"
    }
   ],
   "source": [
    "import pandas as pd\n",
    "import sklearn\n",
    "from sklearn.preprocessing import LabelEncoder\n",
    "\n",
    "census = pd.read_csv('acs2017_census_tract_data.csv')\n",
    "df = census.copy()\n",
    "#df.info()\n",
    "df = df.dropna()\n",
    "df = df.drop('County', axis=1)\n",
    "#df.info()\n",
    "df[['State']] = df[['State']].apply(LabelEncoder().fit_transform)\n",
    "df.info()\n",
    "df.head()\n",
    "#[.5 points] (1) Load the data into memory and save it to a pandas data frame. Do not normalize or one-hot encode \n",
    "#any of the features until asked to do so later in the rubric. (2) Remove any observations that having missing data. \n",
    "#(3) Encode any string data as integers for now.(Use label encoder) (4) You have the option of keeping the \"county\" variable or removing\n",
    "#it. Be sure to discuss why you decided to keep/remove this variable. "
   ]
  },
  {
   "cell_type": "markdown",
   "id": "4e1f2355",
   "metadata": {},
   "source": [
    "We decided to drop the county variable due to the fact that the counties represent political subdivision which are subject to jerrymandering. The tractId is the preferred area identifier employed by the census bureau. "
   ]
  },
  {
   "cell_type": "code",
   "execution_count": 2,
   "id": "87124fcf",
   "metadata": {},
   "outputs": [
    {
     "data": {
      "text/plain": [
       "count    58174.000000\n",
       "mean        21.191340\n",
       "std         18.592469\n",
       "min          0.000000\n",
       "25%          6.300000\n",
       "50%         16.400000\n",
       "75%         31.700000\n",
       "max        100.000000\n",
       "Name: ChildPoverty, dtype: float64"
      ]
     },
     "execution_count": 2,
     "metadata": {},
     "output_type": "execute_result"
    }
   ],
   "source": [
    "#[.5 points] Balance the dataset so that about the same number of instances are within each class. Choose a method for\n",
    "#balancing the dataset and explain your reasoning for selecting this method. One option is to choose quantization \n",
    "#thresholds for the \"ChildPoverty\" variable that equally divide the data into four classes. Should balancing of the \n",
    "#dataset be done for both the training and testing set? Explain.\n",
    "\n",
    "from sklearn.model_selection import train_test_split\n",
    "\n",
    "df_target = df['ChildPoverty']\n",
    "df_data = df.drop(['ChildPoverty'], axis=1)\n",
    "\n",
    "X = df_data.copy()\n",
    "y = df_target.copy()\n",
    "\n",
    "X_train, X_test, y_train, y_test = sklearn.model_selection.train_test_split(X,y, test_size=0.2)\n",
    "y_train.describe()"
   ]
  },
  {
   "cell_type": "code",
   "execution_count": 3,
   "id": "30a846e5",
   "metadata": {
    "scrolled": true
   },
   "outputs": [
    {
     "data": {
      "text/plain": [
       "1    38206\n",
       "2    14761\n",
       "3     4513\n",
       "4      694\n",
       "Name: ChildPoverty, dtype: int64"
      ]
     },
     "execution_count": 3,
     "metadata": {},
     "output_type": "execute_result"
    }
   ],
   "source": [
    "y_train = pd.cut(y_train,bins=4,labels=[1,2,3,4])\n",
    "y_train.value_counts()"
   ]
  },
  {
   "cell_type": "code",
   "execution_count": 4,
   "id": "d6ea2a78",
   "metadata": {},
   "outputs": [],
   "source": [
    "from imblearn.over_sampling import SMOTE\n",
    "X_train, y_train = SMOTE().fit_resample(X_train, y_train)"
   ]
  },
  {
   "cell_type": "markdown",
   "id": "0b709278",
   "metadata": {},
   "source": [
    "Above I utilized the Imb-Learn library to implement random over sampling to balance the training set so as to accentuate the truly impoverished communities. The reason for using random over-sampling in lieu of quantization thresholds is that the final training quantization threshold begins at 31% which will make it difficult for policy makers to truly identify communities that have child poverty rates above 70, 80, or 90 percent. With Imb-Learn, policy can be enacted to target communities with 75% child poverty and above which is represented in the test set breakdown as class 4. "
   ]
  },
  {
   "cell_type": "code",
   "execution_count": 5,
   "id": "39489de3",
   "metadata": {},
   "outputs": [
    {
     "data": {
      "image/png": "[encoded data removed]",
      "text/plain": [
       "<Figure size 432x288 with 1 Axes>"
      ]
     },
     "metadata": {
      "needs_background": "light"
     },
     "output_type": "display_data"
    }
   ],
   "source": [
    "import matplotlib.pyplot as plt\n",
    "count = y_train.value_counts()\n",
    "count.plot.bar()\n",
    "plt.title('Y_Train Breakdown')\n",
    "plt.ylabel('Number of Instances')\n",
    "plt.xlabel('Poverty Class')\n",
    "plt.show()"
   ]
  },
  {
   "cell_type": "code",
   "execution_count": 6,
   "id": "eafa6f03",
   "metadata": {},
   "outputs": [
    {
     "data": {
      "image/png": "[encoded data removed]",
      "text/plain": [
       "<Figure size 432x288 with 1 Axes>"
      ]
     },
     "metadata": {
      "needs_background": "light"
     },
     "output_type": "display_data"
    }
   ],
   "source": [
    "y_test = pd.cut(y_test,bins=4,labels=[1,2,3,4])\n",
    "y_test.value_counts()\n",
    "count = y_test.value_counts()\n",
    "count.plot.bar()\n",
    "plt.title('Y_Test Breakdown')\n",
    "plt.ylabel('Number of Instances')\n",
    "plt.xlabel('Poverty Class')\n",
    "plt.show()"
   ]
  },
  {
   "cell_type": "markdown",
   "id": "d5513849",
   "metadata": {},
   "source": [
    "As you can see above, we don't want our test set to be balanced because it needs to be representative of data that we haven't seen before so as to verfiy our model for deployment. "
   ]
  },
  {
   "cell_type": "code",
   "execution_count": 7,
   "id": "1274bf56",
   "metadata": {},
   "outputs": [],
   "source": [
    "#y_train = pd.get_dummies(y_train,prefix='ChildPoverty')\n",
    "#y_test = pd.get_dummies(y_test,prefix='ChildPoverty')\n",
    "#y_train.head()\n",
    "#[.5 points] Assume you are equally interested in the classification performance for each class in the dataset. Split \n",
    "#the dataset into 80% for training and 20% for testing. There is NO NEED to split the data multiple times for this lab.\n",
    "#Note: You will need to one hot encode the target, but do not one hot encode the categorical data until instructed to do so in the lab."
   ]
  },
  {
   "cell_type": "code",
   "execution_count": 8,
   "id": "f53ed631",
   "metadata": {},
   "outputs": [],
   "source": [
    "from sklearn.metrics import accuracy_score \n",
    "from sklearn.preprocessing import StandardScaler \n",
    "import numpy as np \n",
    "\n",
    "y_train = y_train.to_numpy(dtype='int64')\n",
    "X_train = X_train.to_numpy()\n",
    "y_test = y_test.to_numpy(dtype='int64')\n",
    "X_test = X_test.to_numpy()\n",
    "\n",
    "#You will be using a two layer perceptron from class for the next few parts of the rubric. There are several versions \n",
    "#of the two layer perceptron covered in class, with example code. When selecting an example two layer network from class\n",
    "#be sure that you use: (1) vectorized gradient computation, (2) mini-batching, (3) cross entropy loss, and (4) proper \n",
    "#Glorot initialization, at a minimum. There is no need to use momentum or learning rate reduction (assuming you choose\n",
    "#a sufficiently small learning rate). It is recommended to use sigmoids throughout the network, but not required."
   ]
  },
  {
   "cell_type": "code",
   "execution_count": 9,
   "id": "d7747443",
   "metadata": {},
   "outputs": [
    {
     "name": "stdout",
     "output_type": "stream",
     "text": [
      "(152824,)\n",
      "(152824, 35)\n",
      "(14544,)\n",
      "(14544, 35)\n"
     ]
    }
   ],
   "source": [
    "print(y_train.shape)\n",
    "print(X_train.shape)\n",
    "print(y_test.shape)\n",
    "print(X_test.shape)"
   ]
  },
  {
   "cell_type": "markdown",
   "id": "06025302",
   "metadata": {},
   "source": [
    "We have converted all of the training and testing dataframes into numpy arrays. Notice how the number of features for the y_training set is 4 while the y_test set is only 1 feature because it represents an unknown dataset which in reality will be unbalanced. "
   ]
  },
  {
   "cell_type": "code",
   "execution_count": 10,
   "id": "340ab58b",
   "metadata": {},
   "outputs": [],
   "source": [
    "from sklearn import __version__ as sklearn_version\n",
    "from sklearn.neural_network import MLPClassifier\n",
    "from sklearn.metrics import accuracy_score"
   ]
  },
  {
   "cell_type": "code",
   "execution_count": 11,
   "id": "4b943439",
   "metadata": {},
   "outputs": [],
   "source": [
    "from scipy.special import expit\n",
    "import sys \n",
    "\n",
    "class TLP_MCG(object):\n",
    "    def __init__(self, n_hidden=1,\n",
    "                 C=0.0, epochs=500, eta=0.1, random_state=None,alpha=0.0, decrease_const=0.0, shuffle=True, \n",
    "                 minibatches=1):\n",
    "        np.random.seed(random_state)\n",
    "        self.n_hidden = n_hidden\n",
    "        self.l2_C = C\n",
    "        self.epochs = epochs\n",
    "        self.eta = eta\n",
    "        self.alpha = alpha\n",
    "        self.decrease_const = decrease_const\n",
    "        self.shuffle = shuffle\n",
    "        self.minibatches = minibatches\n",
    "\n",
    "    @staticmethod\n",
    "    def _encode_labels(y):\n",
    "        onehot = pd.get_dummies(y).values.T\n",
    "            \n",
    "        return onehot\n",
    "        \n",
    "    def _initialize_weights(self):\n",
    "        init_bound = 4*np.sqrt(6. / (self.n_hidden + self.n_features_ + 1))\n",
    "        W1 = np.random.uniform(-init_bound, init_bound,(self.n_hidden, self.n_features_ + 1))\n",
    "        W1[:,:1] = 0\n",
    "        \n",
    "\n",
    "        init_bound = 4*np.sqrt(6 / (self.n_output_ + self.n_hidden + 1))\n",
    "        W2 = np.random.uniform(-init_bound, init_bound,(self.n_output_, self.n_hidden + 1)) \n",
    "        W2[:,:1] = 0\n",
    "        \n",
    "        return W1, W2\n",
    "    \n",
    "    @staticmethod\n",
    "    def _sigmoid(z):\n",
    "        return expit(z)\n",
    "    \n",
    "    @staticmethod\n",
    "    def _add_bias_unit(X, how='column'):\n",
    "        if how == 'column':\n",
    "            ones = np.ones((X.shape[0], 1))\n",
    "            X_new = np.hstack((ones, X))\n",
    "        elif how == 'row':\n",
    "            ones = np.ones((1, X.shape[1]))\n",
    "            X_new = np.vstack((ones, X))\n",
    "        return X_new\n",
    "    \n",
    "    @staticmethod\n",
    "    def _L2_reg(lambda_, W1, W2):\n",
    "        return (lambda_/2.0) * np.sqrt(np.mean(W1[:, 1:] ** 2) + np.mean(W2[:, 1:] ** 2))\n",
    "    \n",
    "    def _cost(self,A3,Y_enc,W1,W2):\n",
    "        cost = -np.mean(np.nan_to_num((Y_enc*np.log(A3)+(1-Y_enc)*np.log(1-A3))))\n",
    "        L2_term = self._L2_reg(self.l2_C, W1, W2)\n",
    "        return cost + L2_term\n",
    "    \n",
    "    def _feedforward(self, X, W1, W2):\n",
    "        A1 = self._add_bias_unit(X, how='column')\n",
    "        A1 = A1.T\n",
    "        Z1 = W1 @ A1\n",
    "        A2 = self._sigmoid(Z1)\n",
    "        A2 = self._add_bias_unit(A2, how='row')\n",
    "        Z2 = W2 @ A2\n",
    "        A3 = self._sigmoid(Z2)\n",
    "        return A1, Z1, A2, Z2, A3\n",
    "    \n",
    "    def _get_gradient(self, A1, A2, A3, Z1, Z2, Y_enc, W1, W2):\n",
    "        V2 = (A3-Y_enc)\n",
    "        V1 = A2*(1-A2)*(W2.T @ V2)\n",
    "        \n",
    "        grad2 = V2 @ A2.T\n",
    "        grad1 = V1[1:,:] @ A1.T\n",
    "\n",
    "        grad1[:, 1:] += W1[:, 1:] * self.l2_C\n",
    "        grad2[:, 1:] += W2[:, 1:] * self.l2_C\n",
    "\n",
    "        return grad1, grad2\n",
    "\n",
    "        return grad1, grad2\n",
    "\n",
    "    def fit(self, X, y, print_progress=False, XY_test=None):\n",
    "        X_data, y_data = X.copy(), y.copy()\n",
    "        Y_enc = self._encode_labels(y)\n",
    "        \n",
    "        self.n_features_ = X_data.shape[1]\n",
    "        self.n_output_ = Y_enc.shape[0]\n",
    "        self.W1, self.W2 = self._initialize_weights()\n",
    "\n",
    "        rho_W1_prev = np.zeros(self.W1.shape)\n",
    "        rho_W2_prev = np.zeros(self.W2.shape)\n",
    "\n",
    "        self.cost_ = []\n",
    "        self.score_ = []\n",
    "        self.score_.append(accuracy_score(y_data,self.predict(X_data)))\n",
    "        if XY_test is not None:\n",
    "            X_test = XY_test[0].copy()\n",
    "            y_test = XY_test[1].copy()\n",
    "            self.val_score_ = []\n",
    "            self.val_score_.append(accuracy_score(y_test,self.predict(X_test)))\n",
    "            \n",
    "        for i in range(self.epochs):\n",
    "\n",
    "            eta = self.eta / (1 + self.decrease_const*i)\n",
    "            #eta = max(eta,self.eta/1000)\n",
    "\n",
    "            if print_progress>0 and (i+1)%print_progress==0:\n",
    "                sys.stderr.write('\\rEpoch: %d/%d' % (i+1, self.epochs))\n",
    "                sys.stderr.flush()\n",
    "\n",
    "            if self.shuffle:\n",
    "                idx_shuffle = np.random.permutation(y_data.shape[0])\n",
    "                X_data, Y_enc, y_data = X_data[idx_shuffle], Y_enc[:, idx_shuffle], y_data[idx_shuffle]\n",
    "\n",
    "            mini = np.array_split(range(y_data.shape[0]), self.minibatches)\n",
    "            mini_cost = []\n",
    "            for idx in mini:\n",
    "\n",
    "                A1, Z1, A2, Z2, A3 = self._feedforward(X_data[idx],\n",
    "                                                       self.W1,\n",
    "                                                       self.W2)\n",
    "                \n",
    "                cost = self._cost(A3,Y_enc[:, idx],self.W1,self.W2)\n",
    "                mini_cost.append(cost)\n",
    "\n",
    "                grad1, grad2 = self._get_gradient(A1=A1, A2=A2, A3=A3, Z1=Z1, Z2=Z2, \n",
    "                                                  Y_enc=Y_enc[:, idx],\n",
    "                                                  W1=self.W1,W2=self.W2)\n",
    "\n",
    "                rho_W1, rho_W2 = eta * grad1, eta * grad2\n",
    "                self.W1 -= (rho_W1 + (self.alpha * rho_W1_prev))\n",
    "                self.W2 -= (rho_W2 + (self.alpha * rho_W2_prev))\n",
    "                rho_W1_prev, rho_W2_prev = rho_W1, rho_W2\n",
    "\n",
    "            self.cost_.append(mini_cost)\n",
    "            self.score_.append(accuracy_score(y_data,self.predict(X_data)))\n",
    "            if XY_test is not None:\n",
    "                self.val_score_.append(accuracy_score(y_test,self.predict(X_test)))\n",
    "            \n",
    "        return self\n",
    "    \n",
    "    def predict(self, X):\n",
    "        _, _, _, _, A3 = self._feedforward(X, self.W1, self.W2)\n",
    "        y_pred = np.argmax(A3, axis=0)\n",
    "        return y_pred"
   ]
  },
  {
   "cell_type": "code",
   "execution_count": 12,
   "id": "6a902ce4",
   "metadata": {},
   "outputs": [],
   "source": [
    "import matplotlib.pyplot as plt\n",
    "%matplotlib inline\n",
    "\n",
    "plt.style.use('ggplot')\n",
    "\n",
    "def print_result(nn,X_train,y_train,X_test,y_test,title=\"\",color=\"red\"):\n",
    "    \n",
    "    print(\"=================\")\n",
    "    print(title,\":\")\n",
    "    yhat = nn.predict(X_train)\n",
    "    print('Resubstitution acc:',accuracy_score(y_train,yhat))\n",
    "    \n",
    "    yhat = nn.predict(X_test)\n",
    "    print('Validation acc:',accuracy_score(y_test,yhat))\n",
    "    \n",
    "    if hasattr(nn,'val_score_'):\n",
    "        plt.plot(range(len(nn.val_score_)), nn.val_score_, color=color,label=title)\n",
    "        plt.ylabel('Validation Accuracy')\n",
    "    else:\n",
    "        plt.plot(range(len(nn.score_)), nn.score_, color=color,label=title)\n",
    "        plt.ylabel('Resub Accuracy')\n",
    "        \n",
    "    plt.xlabel('Epochs')\n",
    "    plt.tight_layout()\n",
    "    plt.legend(loc='best')\n",
    "    plt.grid(True)"
   ]
  },
  {
   "cell_type": "code",
   "execution_count": 15,
   "id": "9d34f79d",
   "metadata": {
    "scrolled": false
   },
   "outputs": [],
   "source": [
    "params = {'n_hidden':20,\n",
    "         'C':0.1, 'epochs':20, 'eta':0.001, 'minibatches':len(X_train)/35,\n",
    "         'shuffle':True,'random_state':1}"
   ]
  },
  {
   "cell_type": "code",
   "execution_count": 16,
   "id": "60d7be19",
   "metadata": {},
   "outputs": [
    {
     "name": "stderr",
     "output_type": "stream",
     "text": [
      "Epoch: 20/20"
     ]
    },
    {
     "name": "stdout",
     "output_type": "stream",
     "text": [
      "Accuracy: 0.6613723872387238\n",
      "CPU times: total: 54.2 s\n",
      "Wall time: 29.5 s\n"
     ]
    }
   ],
   "source": [
    "%%time\n",
    "nn_mcg = TLP_MCG(**params)\n",
    "\n",
    "nn_mcg.fit(X_train, y_train, print_progress=1)\n",
    "yhat = nn_mcg.predict(X_test)\n",
    "print('Accuracy:',accuracy_score(y_test,yhat))"
   ]
  },
  {
   "cell_type": "code",
   "execution_count": 17,
   "id": "99cca0b2",
   "metadata": {},
   "outputs": [
    {
     "data": {
      "image/png": "[encoded data removed]",
      "text/plain": [
       "<Figure size 432x288 with 1 Axes>"
      ]
     },
     "metadata": {},
     "output_type": "display_data"
    }
   ],
   "source": [
    "import matplotlib.pyplot as plt\n",
    "# take the mean of each minibatch epoch\n",
    "cost_avgs = [np.mean(x) for x in nn_mcg.cost_]\n",
    "\n",
    "plt.plot(range(len(cost_avgs)), cost_avgs, color='red')\n",
    "plt.ylabel('Cost')\n",
    "plt.xlabel('Epochs')\n",
    "plt.tight_layout()\n",
    "plt.show()"
   ]
  },
  {
   "cell_type": "code",
   "execution_count": 18,
   "id": "a91dad97",
   "metadata": {},
   "outputs": [],
   "source": [
    "#[.5 points] Use the example two-layer perceptron network from the class example and quantify performance using accuracy.\n",
    "#Do not normalize or one-hot encode the data (not yet). Be sure that training converges by graphing the loss function \n",
    "#versus the number of epochs. "
   ]
  },
  {
   "cell_type": "code",
   "execution_count": 28,
   "id": "b0f8e786",
   "metadata": {
    "scrolled": false
   },
   "outputs": [
    {
     "name": "stdout",
     "output_type": "stream",
     "text": [
      "<class 'pandas.core.frame.DataFrame'>\n",
      "Int64Index: 72718 entries, 0 to 74000\n",
      "Data columns (total 36 columns):\n",
      " #   Column            Non-Null Count  Dtype  \n",
      "---  ------            --------------  -----  \n",
      " 0   TractId           72718 non-null  int64  \n",
      " 1   State             72718 non-null  int32  \n",
      " 2   TotalPop          72718 non-null  int64  \n",
      " 3   Men               72718 non-null  int64  \n",
      " 4   Women             72718 non-null  int64  \n",
      " 5   Hispanic          72718 non-null  float64\n",
      " 6   White             72718 non-null  float64\n",
      " 7   Black             72718 non-null  float64\n",
      " 8   Native            72718 non-null  float64\n",
      " 9   Asian             72718 non-null  float64\n",
      " 10  Pacific           72718 non-null  float64\n",
      " 11  VotingAgeCitizen  72718 non-null  int64  \n",
      " 12  Income            72718 non-null  float64\n",
      " 13  IncomeErr         72718 non-null  float64\n",
      " 14  IncomePerCap      72718 non-null  float64\n",
      " 15  IncomePerCapErr   72718 non-null  float64\n",
      " 16  Poverty           72718 non-null  float64\n",
      " 17  ChildPoverty      72718 non-null  float64\n",
      " 18  Professional      72718 non-null  float64\n",
      " 19  Service           72718 non-null  float64\n",
      " 20  Office            72718 non-null  float64\n",
      " 21  Construction      72718 non-null  float64\n",
      " 22  Production        72718 non-null  float64\n",
      " 23  Drive             72718 non-null  float64\n",
      " 24  Carpool           72718 non-null  float64\n",
      " 25  Transit           72718 non-null  float64\n",
      " 26  Walk              72718 non-null  float64\n",
      " 27  OtherTransp       72718 non-null  float64\n",
      " 28  WorkAtHome        72718 non-null  float64\n",
      " 29  MeanCommute       72718 non-null  float64\n",
      " 30  Employed          72718 non-null  int64  \n",
      " 31  PrivateWork       72718 non-null  float64\n",
      " 32  PublicWork        72718 non-null  float64\n",
      " 33  SelfEmployed      72718 non-null  float64\n",
      " 34  FamilyWork        72718 non-null  float64\n",
      " 35  Unemployment      72718 non-null  float64\n",
      "dtypes: float64(29), int32(1), int64(6)\n",
      "memory usage: 20.2 MB\n"
     ]
    }
   ],
   "source": [
    "#[.5 points] Now (1) normalize the continuous numeric feature data. Use the example two-layer perceptron network \n",
    "#from the class example and quantify performance using accuracy. Be sure that training converges by graphing the loss \n",
    "#function versus the number of epochs. \n",
    "from sklearn.pipeline import make_pipeline\n",
    "from sklearn.neural_network import MLPClassifier\n",
    "from sklearn.preprocessing import StandardScaler\n",
    "from sklearn.model_selection import cross_val_score, GridSearchCV\n",
    "\n",
    "sdf = census.copy()\n",
    "sdf = sdf.dropna()\n",
    "sdf = sdf.drop('County', axis=1)\n",
    "sdf[['State']] = sdf[['State']].apply(LabelEncoder().fit_transform)\n",
    "sdf.info()"
   ]
  },
  {
   "cell_type": "code",
   "execution_count": 29,
   "id": "9c511f27",
   "metadata": {},
   "outputs": [],
   "source": [
    "sdf_target = sdf['ChildPoverty']\n",
    "sdf_data = sdf.drop(['ChildPoverty'], axis=1)\n",
    "scaler = StandardScaler()\n",
    "X = sdf_data.copy()\n",
    "X = scaler.fit_transform(X)\n",
    "y = sdf_target.copy()\n",
    "\n",
    "X_train, X_test, y_train, y_test = sklearn.model_selection.train_test_split(X,y, test_size=0.2)"
   ]
  },
  {
   "cell_type": "code",
   "execution_count": 30,
   "id": "0affd7fb",
   "metadata": {},
   "outputs": [],
   "source": [
    "y_train = pd.cut(y_train,bins=4,labels=[1,2,3,4])\n",
    "from imblearn.over_sampling import SMOTE\n",
    "X_train, y_train = SMOTE().fit_resample(X_train, y_train)"
   ]
  },
  {
   "cell_type": "code",
   "execution_count": 31,
   "id": "cf613311",
   "metadata": {},
   "outputs": [],
   "source": [
    "y_test = pd.cut(y_test,bins=4,labels=[1,2,3,4])"
   ]
  },
  {
   "cell_type": "code",
   "execution_count": 32,
   "id": "d456916e",
   "metadata": {},
   "outputs": [],
   "source": [
    "y_train = y_train.to_numpy(dtype='int64')\n",
    "y_test = y_test.to_numpy(dtype='int64')"
   ]
  },
  {
   "cell_type": "code",
   "execution_count": 35,
   "id": "f1a150fe",
   "metadata": {},
   "outputs": [],
   "source": [
    "params = {'n_hidden':20,\n",
    "         'C':0.1, 'epochs':20, 'eta':0.001, 'minibatches':len(X_train)/35,\n",
    "         'shuffle':True,'random_state':1}"
   ]
  },
  {
   "cell_type": "code",
   "execution_count": 36,
   "id": "7b9ae4df",
   "metadata": {},
   "outputs": [
    {
     "name": "stderr",
     "output_type": "stream",
     "text": [
      "Epoch: 20/20"
     ]
    },
    {
     "name": "stdout",
     "output_type": "stream",
     "text": [
      "Accuracy: 0.12438118811881188\n",
      "CPU times: total: 35.7 s\n",
      "Wall time: 20.3 s\n"
     ]
    }
   ],
   "source": [
    "%%time\n",
    "nn_mcg = TLP_MCG(**params)\n",
    "\n",
    "nn_mcg.fit(X_train, y_train, print_progress=1)\n",
    "yhat = nn_mcg.predict(X_test)\n",
    "print('Accuracy:',accuracy_score(y_test,yhat))"
   ]
  },
  {
   "cell_type": "code",
   "execution_count": 37,
   "id": "84c01b2c",
   "metadata": {},
   "outputs": [
    {
     "data": {
      "image/png": "[encoded data removed]",
      "text/plain": [
       "<Figure size 432x288 with 1 Axes>"
      ]
     },
     "metadata": {},
     "output_type": "display_data"
    }
   ],
   "source": [
    "cost_avgs = [np.mean(x) for x in nn_mcg.cost_]\n",
    "\n",
    "plt.plot(range(len(cost_avgs)), cost_avgs, color='blue')\n",
    "plt.ylabel('Cost')\n",
    "plt.xlabel('Epochs')\n",
    "plt.tight_layout()\n",
    "plt.show()"
   ]
  },
  {
   "cell_type": "code",
   "execution_count": 38,
   "id": "e0da0e79",
   "metadata": {},
   "outputs": [
    {
     "name": "stdout",
     "output_type": "stream",
     "text": [
      "<class 'pandas.core.frame.DataFrame'>\n",
      "Int64Index: 72718 entries, 0 to 74000\n",
      "Data columns (total 87 columns):\n",
      " #   Column                      Non-Null Count  Dtype  \n",
      "---  ------                      --------------  -----  \n",
      " 0   TractId                     72718 non-null  int64  \n",
      " 1   TotalPop                    72718 non-null  int64  \n",
      " 2   Men                         72718 non-null  int64  \n",
      " 3   Women                       72718 non-null  int64  \n",
      " 4   Hispanic                    72718 non-null  float64\n",
      " 5   White                       72718 non-null  float64\n",
      " 6   Black                       72718 non-null  float64\n",
      " 7   Native                      72718 non-null  float64\n",
      " 8   Asian                       72718 non-null  float64\n",
      " 9   Pacific                     72718 non-null  float64\n",
      " 10  VotingAgeCitizen            72718 non-null  int64  \n",
      " 11  Income                      72718 non-null  float64\n",
      " 12  IncomeErr                   72718 non-null  float64\n",
      " 13  IncomePerCap                72718 non-null  float64\n",
      " 14  IncomePerCapErr             72718 non-null  float64\n",
      " 15  Poverty                     72718 non-null  float64\n",
      " 16  ChildPoverty                72718 non-null  float64\n",
      " 17  Professional                72718 non-null  float64\n",
      " 18  Service                     72718 non-null  float64\n",
      " 19  Office                      72718 non-null  float64\n",
      " 20  Construction                72718 non-null  float64\n",
      " 21  Production                  72718 non-null  float64\n",
      " 22  Drive                       72718 non-null  float64\n",
      " 23  Carpool                     72718 non-null  float64\n",
      " 24  Transit                     72718 non-null  float64\n",
      " 25  Walk                        72718 non-null  float64\n",
      " 26  OtherTransp                 72718 non-null  float64\n",
      " 27  WorkAtHome                  72718 non-null  float64\n",
      " 28  MeanCommute                 72718 non-null  float64\n",
      " 29  Employed                    72718 non-null  int64  \n",
      " 30  PrivateWork                 72718 non-null  float64\n",
      " 31  PublicWork                  72718 non-null  float64\n",
      " 32  SelfEmployed                72718 non-null  float64\n",
      " 33  FamilyWork                  72718 non-null  float64\n",
      " 34  Unemployment                72718 non-null  float64\n",
      " 35  State_Alabama               72718 non-null  uint8  \n",
      " 36  State_Alaska                72718 non-null  uint8  \n",
      " 37  State_Arizona               72718 non-null  uint8  \n",
      " 38  State_Arkansas              72718 non-null  uint8  \n",
      " 39  State_California            72718 non-null  uint8  \n",
      " 40  State_Colorado              72718 non-null  uint8  \n",
      " 41  State_Connecticut           72718 non-null  uint8  \n",
      " 42  State_Delaware              72718 non-null  uint8  \n",
      " 43  State_District of Columbia  72718 non-null  uint8  \n",
      " 44  State_Florida               72718 non-null  uint8  \n",
      " 45  State_Georgia               72718 non-null  uint8  \n",
      " 46  State_Hawaii                72718 non-null  uint8  \n",
      " 47  State_Idaho                 72718 non-null  uint8  \n",
      " 48  State_Illinois              72718 non-null  uint8  \n",
      " 49  State_Indiana               72718 non-null  uint8  \n",
      " 50  State_Iowa                  72718 non-null  uint8  \n",
      " 51  State_Kansas                72718 non-null  uint8  \n",
      " 52  State_Kentucky              72718 non-null  uint8  \n",
      " 53  State_Louisiana             72718 non-null  uint8  \n",
      " 54  State_Maine                 72718 non-null  uint8  \n",
      " 55  State_Maryland              72718 non-null  uint8  \n",
      " 56  State_Massachusetts         72718 non-null  uint8  \n",
      " 57  State_Michigan              72718 non-null  uint8  \n",
      " 58  State_Minnesota             72718 non-null  uint8  \n",
      " 59  State_Mississippi           72718 non-null  uint8  \n",
      " 60  State_Missouri              72718 non-null  uint8  \n",
      " 61  State_Montana               72718 non-null  uint8  \n",
      " 62  State_Nebraska              72718 non-null  uint8  \n",
      " 63  State_Nevada                72718 non-null  uint8  \n",
      " 64  State_New Hampshire         72718 non-null  uint8  \n",
      " 65  State_New Jersey            72718 non-null  uint8  \n",
      " 66  State_New Mexico            72718 non-null  uint8  \n",
      " 67  State_New York              72718 non-null  uint8  \n",
      " 68  State_North Carolina        72718 non-null  uint8  \n",
      " 69  State_North Dakota          72718 non-null  uint8  \n",
      " 70  State_Ohio                  72718 non-null  uint8  \n",
      " 71  State_Oklahoma              72718 non-null  uint8  \n",
      " 72  State_Oregon                72718 non-null  uint8  \n",
      " 73  State_Pennsylvania          72718 non-null  uint8  \n",
      " 74  State_Puerto Rico           72718 non-null  uint8  \n",
      " 75  State_Rhode Island          72718 non-null  uint8  \n",
      " 76  State_South Carolina        72718 non-null  uint8  \n",
      " 77  State_South Dakota          72718 non-null  uint8  \n",
      " 78  State_Tennessee             72718 non-null  uint8  \n",
      " 79  State_Texas                 72718 non-null  uint8  \n",
      " 80  State_Utah                  72718 non-null  uint8  \n",
      " 81  State_Vermont               72718 non-null  uint8  \n",
      " 82  State_Virginia              72718 non-null  uint8  \n",
      " 83  State_Washington            72718 non-null  uint8  \n",
      " 84  State_West Virginia         72718 non-null  uint8  \n",
      " 85  State_Wisconsin             72718 non-null  uint8  \n",
      " 86  State_Wyoming               72718 non-null  uint8  \n",
      "dtypes: float64(29), int64(6), uint8(52)\n",
      "memory usage: 25.6 MB\n"
     ]
    }
   ],
   "source": [
    "#[.5 points] Now(1) normalize the continuous numeric feature data AND (2) one hot encode the categorical data. Use the\n",
    "#example two-layer perceptron network from the class example and quantify performance using accuracy. Be sure that \n",
    "#training converges by graphing the loss function versus the number of epochs. \n",
    "cdf = census.copy()\n",
    "onehot = pd.get_dummies(cdf['State'], prefix='State')\n",
    "cdf = cdf.dropna()\n",
    "cdf = cdf.drop('County', axis=1)\n",
    "cdf = cdf.drop('State', axis=1)\n",
    "cdf = cdf.join(onehot)\n",
    "cdf.info()"
   ]
  },
  {
   "cell_type": "markdown",
   "id": "c4b15a16",
   "metadata": {},
   "source": [
    "In the cell above, we reuploaded the original dataset but this time one hot encoded the states instead of label encoding."
   ]
  },
  {
   "cell_type": "code",
   "execution_count": 39,
   "id": "c525ddf7",
   "metadata": {},
   "outputs": [
    {
     "data": {
      "text/plain": [
       "count    58174.000000\n",
       "mean        21.165345\n",
       "std         18.608593\n",
       "min          0.000000\n",
       "25%          6.200000\n",
       "50%         16.300000\n",
       "75%         31.700000\n",
       "max        100.000000\n",
       "Name: ChildPoverty, dtype: float64"
      ]
     },
     "execution_count": 39,
     "metadata": {},
     "output_type": "execute_result"
    }
   ],
   "source": [
    "cdf_target = cdf['ChildPoverty']\n",
    "cdf_data = cdf.drop(['ChildPoverty'], axis=1)\n",
    "\n",
    "X = cdf_data.copy()\n",
    "X = scaler.fit_transform(X)\n",
    "y = cdf_target.copy()\n",
    "\n",
    "X_train, X_test, y_train, y_test = sklearn.model_selection.train_test_split(X,y, test_size=0.2)\n",
    "y_train.describe()"
   ]
  },
  {
   "cell_type": "code",
   "execution_count": 40,
   "id": "5bca9045",
   "metadata": {},
   "outputs": [
    {
     "data": {
      "text/plain": [
       "1    38252\n",
       "2    14707\n",
       "3     4512\n",
       "4      703\n",
       "Name: ChildPoverty, dtype: int64"
      ]
     },
     "execution_count": 40,
     "metadata": {},
     "output_type": "execute_result"
    }
   ],
   "source": [
    "y_train = pd.cut(y_train,bins=4,labels=[1,2,3,4])\n",
    "y_train.value_counts()"
   ]
  },
  {
   "cell_type": "code",
   "execution_count": 41,
   "id": "217b65cb",
   "metadata": {},
   "outputs": [],
   "source": [
    "X_train, y_train = SMOTE().fit_resample(X_train, y_train)\n",
    "y_test = pd.cut(y_test,bins=4,labels=[1,2,3,4])"
   ]
  },
  {
   "cell_type": "code",
   "execution_count": 42,
   "id": "55eb65a8",
   "metadata": {},
   "outputs": [],
   "source": [
    "y_train = y_train.to_numpy(dtype='int64')\n",
    "y_test = y_test.to_numpy(dtype='int64')"
   ]
  },
  {
   "cell_type": "code",
   "execution_count": 43,
   "id": "0bdf452b",
   "metadata": {},
   "outputs": [
    {
     "name": "stdout",
     "output_type": "stream",
     "text": [
      "(153008,)\n",
      "(153008, 86)\n",
      "(14544,)\n",
      "(14544, 86)\n"
     ]
    }
   ],
   "source": [
    "print(y_train.shape)\n",
    "print(X_train.shape)\n",
    "print(y_test.shape)\n",
    "print(X_test.shape)"
   ]
  },
  {
   "cell_type": "code",
   "execution_count": 44,
   "id": "79678de5",
   "metadata": {},
   "outputs": [],
   "source": [
    "params = {'n_hidden':20, \n",
    "         'C':0.1, 'epochs':20, 'eta':0.001, 'minibatches':len(X_train)/35,\n",
    "         'shuffle':True,'random_state':1}"
   ]
  },
  {
   "cell_type": "code",
   "execution_count": 45,
   "id": "1a162df5",
   "metadata": {},
   "outputs": [
    {
     "name": "stderr",
     "output_type": "stream",
     "text": [
      "Epoch: 20/20"
     ]
    },
    {
     "name": "stdout",
     "output_type": "stream",
     "text": [
      "Accuracy: 0.12362486248624863\n",
      "CPU times: total: 38.2 s\n",
      "Wall time: 22.4 s\n"
     ]
    }
   ],
   "source": [
    "%%time\n",
    "nn_mcg = TLP_MCG(**params)\n",
    "\n",
    "nn_mcg.fit(X_train, y_train, print_progress=1)\n",
    "yhat = nn_mcg.predict(X_test)\n",
    "print('Accuracy:',accuracy_score(y_test,yhat))"
   ]
  },
  {
   "cell_type": "code",
   "execution_count": 46,
   "id": "c87fe8fb",
   "metadata": {},
   "outputs": [
    {
     "data": {
      "image/png": "[encoded data removed]",
      "text/plain": [
       "<Figure size 432x288 with 1 Axes>"
      ]
     },
     "metadata": {},
     "output_type": "display_data"
    }
   ],
   "source": [
    "cost_avgs = [np.mean(x) for x in nn_mcg.cost_]\n",
    "\n",
    "plt.plot(range(len(cost_avgs)), cost_avgs, color='blue')\n",
    "plt.ylabel('Cost')\n",
    "plt.xlabel('Epochs')\n",
    "plt.tight_layout()\n",
    "plt.show()"
   ]
  },
  {
   "cell_type": "code",
   "execution_count": null,
   "id": "7d23af1f",
   "metadata": {},
   "outputs": [],
   "source": [
    "#[1 points] Compare the performance of the three models you just trained. Are there any meaningful differences in \n",
    "#performance? Explain, in your own words, why these models have (or do not have) different performances.  \n",
    "#Use one-hot encoding and normalization on the dataset for the remainder of this lab assignment."
   ]
  },
  {
   "cell_type": "code",
   "execution_count": null,
   "id": "04737a9c",
   "metadata": {},
   "outputs": [],
   "source": [
    "#[1 points] Add support for a third layer in the multi-layer perceptron. Add support for saving (and plotting after training \n",
    "#is completed) the average magnitude of the gradient for each layer, for each epoch (like we did in the flipped module\n",
    "#for back propagation). For magnitude calculation, you are free to use either the average absolute values or the L1/L2 norm.\n",
    "#Quantify the performance of the model and graph the magnitudes for each layer versus the number of epochs."
   ]
  },
  {
   "cell_type": "code",
   "execution_count": null,
   "id": "33ee84c4",
   "metadata": {},
   "outputs": [],
   "source": [
    "#[1 points] Repeat the previous step, adding support for a fourth layer."
   ]
  },
  {
   "cell_type": "code",
   "execution_count": null,
   "id": "8da6d321",
   "metadata": {},
   "outputs": [],
   "source": [
    "#[1 points] Repeat the previous step, adding support for a fifth layer. "
   ]
  },
  {
   "cell_type": "code",
   "execution_count": null,
   "id": "01a65698",
   "metadata": {},
   "outputs": [],
   "source": [
    "#[2 points] Implement an adaptive learning technique that was discussed in lecture and use it on the five layer network\n",
    "#(such as AdaGrad, RMSProps, or AdaDelta). Discuss which adaptive method you chose. Compare the performance of your five\n",
    "#layer model with and without the adaptive learning strategy. Do not use AdaM for the adaptive learning technique as it \n",
    "#is part of the exceptional work."
   ]
  },
  {
   "cell_type": "code",
   "execution_count": null,
   "id": "8820a9f6",
   "metadata": {},
   "outputs": [],
   "source": [
    "#Exceptional Work (1 points total)\n",
    "#One idea (required for 7000 level students):  Implement adaptive momentum (AdaM) in the \n",
    "#five layer neural network and quantify the performance"
   ]
  }
 ],
 "metadata": {
  "kernelspec": {
   "display_name": "Python 3 (ipykernel)",
   "language": "python",
   "name": "python3"
  },
  "language_info": {
   "codemirror_mode": {
    "name": "ipython",
    "version": 3
   },
   "file_extension": ".py",
   "mimetype": "text/x-python",
   "name": "python",
   "nbconvert_exporter": "python",
   "pygments_lexer": "ipython3",
   "version": "3.9.12"
  }
 },
 "nbformat": 4,
 "nbformat_minor": 5
}
